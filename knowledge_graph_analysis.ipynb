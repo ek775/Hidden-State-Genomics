{
 "cells": [
  {
   "cell_type": "code",
   "execution_count": 2,
   "id": "cdfe6556",
   "metadata": {},
   "outputs": [
    {
     "name": "stdout",
     "output_type": "stream",
     "text": [
      "Graph with 50113 nodes and 674225 edges\n"
     ]
    }
   ],
   "source": [
    "import networkx as nx\n",
    "import matplotlib.pyplot as plt\n",
    "from networkx.readwrite import json_graph\n",
    "\n",
    "import os, json\n",
    "\n",
    "with open(\"data/cisplatin_pos_kg.json\") as f:\n",
    "    data = json.load(f)\n",
    "\n",
    "G = json_graph.node_link_graph(data, edges=\"edges\")\n",
    "print(G)"
   ]
  },
  {
   "cell_type": "code",
   "execution_count": 3,
   "id": "e2044dad",
   "metadata": {},
   "outputs": [],
   "source": [
    "# export to cytoscape for visualization\n",
    "cyto_data = nx.cytoscape_data(G)\n",
    "with open(\"data/cisplatin_pos_kg_cyto.json\", \"w\") as f:\n",
    "    json.dump(cyto_data, f)"
   ]
  },
  {
   "cell_type": "code",
   "execution_count": null,
   "id": "b13f21b4",
   "metadata": {},
   "outputs": [
    {
     "ename": "",
     "evalue": "",
     "output_type": "error",
     "traceback": [
      "\u001b[1;31mnotebook controller is DISPOSED. \n",
      "\u001b[1;31mView Jupyter <a href='command:jupyter.viewOutput'>log</a> for further details."
     ]
    }
   ],
   "source": []
  }
 ],
 "metadata": {
  "kernelspec": {
   "display_name": "hsg",
   "language": "python",
   "name": "python3"
  },
  "language_info": {
   "codemirror_mode": {
    "name": "ipython",
    "version": 3
   },
   "file_extension": ".py",
   "mimetype": "text/x-python",
   "name": "python",
   "nbconvert_exporter": "python",
   "pygments_lexer": "ipython3",
   "version": "3.12.8"
  }
 },
 "nbformat": 4,
 "nbformat_minor": 5
}
